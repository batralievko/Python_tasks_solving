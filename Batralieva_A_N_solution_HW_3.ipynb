  {
   "cell_type": "markdown",
   "metadata": {},
   "source": [
    "### Задачка про аббревиатуры\n",
    "Владимир устроился на работу в одно очень важное место. И в первом же документе он ничего не понял, \n",
    "там были сплошные ФГУП НИЦ ГИДГЕО, ФГОУ ЧШУ АПК и т.п. Тогда он решил собрать все аббревиатуры, чтобы потом найти их расшифровки на http://sokr.ru/. Помогите ему.\n",
    "Будем считать аббревиатурой слова только лишь из заглавных букв (как минимум из двух). Если несколько таких слов разделены пробелами, то они \n",
    "считаются одной аббревиатурой."
   ]
  },
  {
   "cell_type": "markdown",
   "metadata": {},
   "source": [
    "**Ввод**: Это курс информатики соответствует ФГОС и ПООП, это подтверждено ФГУ ФНЦ НИИСИ РАН\\\n",
    "**Вывод**: ФГОС, ПООП, ФГУ, ФНЦ, НИИСИ, РАН"
   ]
  },
  {
   "cell_type": "code",
   "execution_count": 11,
   "metadata": {},
   "outputs": [
    {
     "output_type": "stream",
     "name": "stdout",
     "text": "ФГОС, ПООП, ФГУ, ФНЦ, НИИСИ, РАН\n"
    }
   ],
   "source": [
    "import re\n",
    "# Ваше решение\n",
    "s = 'Это курс информатики соответствует ФГОС и ПООП, это подтверждено ФГУ ФНЦ НИИСИ РАН'\n",
    "abb = re.findall('\\s[А-Я]+',s)\n",
    "print('{0},{1},{2},{3},{4},{5}'.format(abb[0],abb[1],abb[2],abb[3],abb[4],abb[5]))"
   ]
  },
  {
   "cell_type": "markdown",
   "metadata": {},
   "source": [
    "### Задачка про перевод из camel_case'a в snake_case"
   ]
  },
  {
   "cell_type": "markdown",
   "metadata": {},
   "source": [
    "Мы уже довольно много говорили про то, что в компаниях могут быть конвенции по обозначению переменных. Что, если вы написали код, а в нем переменные названы в Camel Case а вам требуется snake case? Пожалуй, стоит автоматизировать этот процесс. Попробуем написать функцию, которая этот функционал реализует"
   ]
  },
  {
   "cell_type": "code",
   "execution_count": 31,
   "metadata": {},
   "outputs": [],
   "source": [
    "#Camel case to snake case\n",
    "\n",
    "# Solution\n",
    "var = 'camelCaseVar'\n",
    "import re\n",
    "def transform(var):\n",
    "    let = re.findall('[A-Z]',var)\n",
    "    for i in let:\n",
    "        var = re.sub(i,'_'+i,var)\n",
    "    new = var.lower()\n",
    "    return(new)"
   ]
  },
  {
   "cell_type": "code",
   "execution_count": 32,
   "metadata": {},
   "outputs": [
    {
     "output_type": "execute_result",
     "data": {
      "text/plain": "'camel_case_var'"
     },
     "metadata": {},
     "execution_count": 32
    }
   ],
   "source": [
    "transform(var)"
   ]
  },
  {
   "cell_type": "markdown",
   "metadata": {},
   "source": [
    "### Задачка про подсчет количества слов"
   ]
  },
  {
   "cell_type": "markdown",
   "metadata": {},
   "source": [
    "Слова у нас могут состоять из букв или букв, стоящих вокруг дефиса (во-первых, чуть-чуть, давай-ка). Попробуем это описать регулярным выражением"
   ]
  },
  {
   "cell_type": "code",
   "execution_count": 126,
   "metadata": {},
   "outputs": [
    {
     "output_type": "stream",
     "name": "stdout",
     "text": "Количество слов: 30\n['Дельный', 'что', 'и', 'говорить', 'Был', 'старик', 'тот', 'самый', 'Что', 'придумал', 'суп', 'варить', 'На', 'колесах', 'прямо', 'Суп', 'во-первых', 'Во-вторых', 'Кашу', 'в', 'норме', 'прочной', 'Нет', 'старик', 'он', 'был', 'старик', 'Чуткий', 'это', 'точно']\n"
    }
   ],
   "source": [
    "text = '''\n",
    "                    - Дельный, что и говорить,\n",
    "                      Был старик тот самый,\n",
    "                      Что придумал суп варить\n",
    "                      На колесах прямо.\n",
    "                      Суп - во-первых. Во-вторых,\n",
    "                      Кашу в норме прочной.\n",
    "                      Нет, старик он был старик\n",
    "                      Чуткий - это точно.\n",
    "'''\n",
    "\n",
    "# Solution\n",
    "\n",
    "words = re.findall(r'\\w+-\\w+|\\b[а-яА-Я]+',text)\n",
    "print('Количество слов: {0}'.format(len(words)))\n",
    "print(words)"
   ]
  },
  {
   "cell_type": "markdown",
   "metadata": {},
   "source": [
    "### Задачка про поиск слов на а и на е"
   ]
  },
  {
   "cell_type": "markdown",
   "metadata": {},
   "source": [
    "Найдите в тексте слова, начинающиеся на а и на е"
   ]
  },
  {
   "cell_type": "code",
   "execution_count": 92,
   "metadata": {},
   "outputs": [
    {
     "output_type": "stream",
     "name": "stdout",
     "text": "['example', 'an', 'elements', 'elements', 'are', 'added', 'and', 'accordingly']\nКоличество слов: 8\n"
    }
   ],
   "source": [
    "import re\n",
    "# Input.\n",
    "text = \"The following example creates an ArrayList with a capacity of 50 elements.\\\n",
    "        Four elements are then added to the ArrayList and the ArrayList is trimmed accordingly.\"\n",
    "\n",
    "\n",
    "# Solution \n",
    "\n",
    "a_e = re.findall(r'\\b[a,e]\\w+',text)\n",
    "print(a_e)\n",
    "print('Количество слов: {0}'.format(len(a_e)))"
   ]
  },
  {
   "cell_type": "markdown",
   "metadata": {},
   "source": [
    "**Пример 2**\n",
    "\n",
    "Найдите в тексте слова, начинающиеся на а и на е"
   ]
  },
  {
   "cell_type": "code",
   "execution_count": 93,
   "metadata": {},
   "outputs": [
    {
     "output_type": "stream",
     "name": "stdout",
     "text": "['euch', 'einst', 'euch']\nКоличество слов: 3\n"
    }
   ],
   "source": [
    "import re\n",
    "# Input.\n",
    "text = '''\n",
    "        Ihr naht euch wieder, schwankende Gestalten,\n",
    "        Die früh sich einst dem trüben Blick gezeigt.\n",
    "        Versuch’ ich wohl, euch diesmal festzuhalten?\n",
    "        Fühl’ ich mein Herz noch jenem Wahn geneigt?\n",
    "        '''\n",
    "# Solution \n",
    "\n",
    "ae = re.findall(r'\\b[a,e]\\w+',text)\n",
    "print(ae)\n",
    "print('Количество слов: {0}'.format(len(ae)))\n"
   ]
  },
  {
   "cell_type": "markdown",
   "metadata": {},
   "source": [
    "### Задачка про деление текста на предложения "
   ]
  },
  {
   "cell_type": "markdown",
   "metadata": {},
   "source": [
    "Для простоты будем считать, что: \n",
    "* каждое предложение начинается с заглавной русской или латинской буквы;\n",
    "* каждое предложение заканчивается одним из знаков препинания .;!?;\n",
    "* между предложениями может быть любой непустой набор пробельных символов;\n",
    "* внутри предложений нет заглавных и точек (нет пакостей в духе «Мы любим творчество А. С. Пушкина)».\n",
    "\n",
    "Разделите текст на предложения так, чтобы каждое предложение занимало одну строку. \n",
    "Пустых строк в выводе быть не должно."
   ]
  },
  {
   "cell_type": "code",
   "execution_count": 128,
   "metadata": {},
   "outputs": [
    {
     "output_type": "stream",
     "name": "stdout",
     "text": "['Mr. Smith bought cheapsite.com for 1.5 million dollars, i.e', 'he paid a lot for it', 'Did he mind', \"Adam Jones Jr. thinks he didn't\", \"In any case, this isn't true..\", \"Well, with a probability of .9 it isn't.\"]\n"
    }
   ],
   "source": [
    "import re\n",
    "s = \"\"\"Mr. Smith bought cheapsite.com for 1.5 million dollars, i.e. he paid a lot for it! \\\n",
    "Did he mind? Adam Jones Jr. thinks he didn't. In any case, this isn't true... \\\n",
    "Well, with a probability of .9 it isn't.\"\"\"\n",
    "\n",
    "# Solution\n",
    "\n",
    "sentences = re.split('(?<![A-Z][a-z])[.;!?]\\s(?<![A-Z])',s)\n",
    "\n",
    "print(sentences)\n",
    "\n",
    "# Что-то не вышло этот кусок: he paid a lot for it! на место вставить."
   ]
  },
  {
   "cell_type": "markdown",
   "metadata": {},
   "source": [
    "### Давайте разберем реальный пример\n",
    "\n",
    "Возьмем перевод книги Идиот, вытащим оттуда текст первой главы, после чего посчитаем количество вхождений слова the. Ссылка 'https://www.gutenberg.org/files/2638/2638-0.txt'"
   ]
  },
  {
   "cell_type": "code",
   "execution_count": 1,
   "metadata": {},
   "outputs": [],
   "source": [
    "import re\n",
    "import requests\n",
    "\n",
    "the_idiot_url = 'https://www.gutenberg.org/files/2638/2638-0.txt'\n",
    "raw = requests.get(the_idiot_url).text\n",
    "\n",
    "# Индекс начала первой главы\n",
    "start = re.search(r'\\*\\*\\* START OF THIS PROJECT GUTENBERG EBOOK THE IDIOT \\*\\*\\*', raw).end()\n",
    "# Индекс конца первой главы\n",
    "end = re.search(r'II', raw).start()"
   ]
  },
  {
   "cell_type": "code",
   "execution_count": 127,
   "metadata": {},
   "outputs": [
    {
     "output_type": "stream",
     "name": "stdout",
     "text": "Количество \"the\" в первой главе: 302\n"
    }
   ],
   "source": [
    "# Solution\n",
    "# Имеет ли значени регистр в тексте самом непонятно?\n",
    "\n",
    "sample = raw[start:end]\n",
    "right_sample = re.sub('[\\W]+', ' ', sample).lower()\n",
    "the = re.findall('the',right_sample)\n",
    "print('Количество \"the\" в первой главе: {0}'.format(len(the)))"
   ]
  },
  {
   "cell_type": "markdown",
   "metadata": {},
   "source": [
    "## Про время\n",
    "Вовочка подготовил одно очень важное письмо, но везде указал неправильное время. \n",
    "Поэтому нужно заменить все вхождения времени на строку (TBD). Время — это строка вида HH:MM:SS или HH:MM, в которой HH — число от 00 до 23, а MM и SS — число от 00 до 59."
   ]
  },
  {
   "cell_type": "markdown",
   "metadata": {},
   "source": [
    "Ввод:\n",
    "\n",
    "    Уважаемые! Если вы к 09:00 не вернёте \n",
    "    чемодан, то уже в 09:00:01 я за себя не отвечаю. \n",
    "    PS. С отношением 25:50 всё нормально!\n",
    "    \n",
    "Вывод:\n",
    "\n",
    "    Уважаемые! Если вы к (TBD) не вернёте \n",
    "    чемодан, то уже в (TBD) я за себя не отвечаю. \n",
    "    PS. С отношением 25:50 всё нормально!"
   ]
  },
  {
   "cell_type": "code",
   "execution_count": 135,
   "metadata": {},
   "outputs": [
    {
     "output_type": "stream",
     "name": "stdout",
     "text": "Уважаемые! Если вы к (TBD) не вернёте \nчемодан, то уже в (TBD) я за себя не отвечаю. \nPS. С отношением 25:50 всё нормально!\n"
    }
   ],
   "source": [
    "inp = \"\"\"Уважаемые! Если вы к 09:00 не вернёте \n",
    "чемодан, то уже в 09:00:01 я за себя не отвечаю. \n",
    "PS. С отношением 25:50 всё нормально!\"\"\"\n",
    "\n",
    "# Solution \n",
    "\n",
    "tbd = re.sub(r'[0,1][0-9]:[0-5][0-9]:[0-5][0-9]|[20-23]:[0-5][0-9]:[0-5][0-9]|[0,1][0-9]:[0-5][0-9]|[20-23]:[0-5][0-9]','(TBD)',inp)\n",
    "\n",
    "print(tbd)"
   ]
  },
  {
   "cell_type": "markdown",
   "metadata": {},
   "source": [
    "## Про финансовую отчетность\n",
    "\n",
    "Владимиру потребовалось срочно запутать финансовую документацию. Но так, чтобы это было обратимо. \n",
    "Он не придумал ничего лучше, чем заменить каждое целое число (последовательность цифр) на его куб. Помогите ему.\n",
    "\n",
    "Ввод:\n",
    "\n",
    "    Было закуплено 12 единиц техники \n",
    "    по 410.37 рублей.\n",
    "    \n",
    "Вывод:\n",
    "\n",
    "    Было закуплено 1728 единиц техники \n",
    "    по 68921000.50653 рублей."
   ]
  },
  {
   "cell_type": "code",
   "execution_count": 35,
   "metadata": {},
   "outputs": [
    {
     "output_type": "stream",
     "name": "stdout",
     "text": "Было закуплено 1728.0 единиц техники \nпо 69107759.437653 рублей.\n"
    }
   ],
   "source": [
    "inp = \"\"\"Было закуплено 12 единиц техники \n",
    "по 410.37 рублей.\"\"\"\n",
    "\n",
    "# Solution\n",
    "\n",
    "numbers = re.findall('\\d+.\\d+|\\d+',inp)\n",
    "for i in numbers:\n",
    "    i_3 = float(i)**3\n",
    "    inp = re.sub(i,str(i_3),inp)\n",
    "print(inp)"
   ]
  }
 ],
 "metadata": {
  "kernelspec": {
   "display_name": "Python 3.8.2 32-bit",
   "language": "python",
   "name": "python38232bit3d0a372392db4042a2c827a14929d5f9"
  },
  "language_info": {
   "codemirror_mode": {
    "name": "ipython",
    "version": 3
   },
   "file_extension": ".py",
   "mimetype": "text/x-python",
   "name": "python",
   "nbconvert_exporter": "python",
   "pygments_lexer": "ipython3",
   "version": "3.8.2-final"
  }
 },
 "nbformat": 4,
 "nbformat_minor": 2
}
