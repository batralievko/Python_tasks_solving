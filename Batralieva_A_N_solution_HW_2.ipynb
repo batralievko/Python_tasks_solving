
  {
   "cell_type": "markdown",
   "metadata": {},
   "source": [
    "## Задачи"
   ]
  },
  {
   "cell_type": "markdown",
   "metadata": {},
   "source": [
    "### Задача 1\n",
    "\n",
    "Дана строка, состоящая из слов. Сделать из нее аббревиатуру с помощью списковых включений\n",
    "\n",
    "**Вход:** \"Комитет Государственной Безопасности\"\n",
    "\n",
    "**Выход:** \"КГБ\""
   ]
  },
  {
   "cell_type": "code",
   "execution_count": 4,
   "metadata": {},
   "outputs": [
    {
     "data": {
      "text/plain": [
       "'КГБ'"
      ]
     },
     "execution_count": 4,
     "metadata": {},
     "output_type": "execute_result"
    }
   ],
   "source": [
    "text = 'Комитет Государственной Безопасности'\n",
    "\n",
    "#Решение\n",
    "\n",
    "ts = text.split()\n",
    "abb = \"\"\n",
    "abb += abb.join(i[0] for i in ts)\n",
    "abb"
   ]
  },
  {
   "cell_type": "markdown",
   "metadata": {},
   "source": [
    "### Задача 2\n",
    "\n",
    "На вход принимается число N. \n",
    "\n",
    "Выведите на печать следующий паттерн:\n",
    "\n",
    "1\n",
    "\n",
    "1 2\n",
    "\n",
    "1 2 3\n",
    "\n",
    "1 2 3 4\n",
    "\n",
    "...\n",
    "\n",
    "1 ... N\n",
    "\n",
    "**Это не так просто)**"
   ]
  },
  {
   "cell_type": "code",
   "execution_count": 17,
   "metadata": {},
   "outputs": [
    {
     "name": "stdout",
     "output_type": "stream",
     "text": [
      "1 \n",
      "1 2 \n",
      "1 2 3 \n",
      "1 2 3 4 \n",
      "1 2 3 4 5 \n",
      "1 2 3 4 5 6 \n",
      "1 2 3 4 5 6 7 \n",
      "1 2 3 4 5 6 7 8 \n",
      "1 2 3 4 5 6 7 8 9 \n",
      "1 2 3 4 5 6 7 8 9 10 \n"
     ]
    }
   ],
   "source": [
    "# Решение\n",
    "\n",
    "number = int(input()) \n",
    "set_num = \"\"\n",
    "for i in range(1, number+1, 1):\n",
    "    set_num += str(i) + ' '\n",
    "    print(set_num)"
   ]
  },
  {
   "cell_type": "markdown",
   "metadata": {},
   "source": [
    "### Задача 3\n",
    "\n",
    "Дана строка. Замените в ней все буквы А на # с помощью спискового включения.\n"
   ]
  },
  {
   "cell_type": "code",
   "execution_count": 20,
   "metadata": {},
   "outputs": [
    {
     "name": "stdout",
     "output_type": "stream",
     "text": [
      "#Б#ЖУР, #Б#ЗИНСКИЙ, #Б#ЗИНЫ, #ББ#Т, #ББ#ТИС#, #ББ#ТСТВО\n"
     ]
    }
   ],
   "source": []
  },
  {
   "cell_type": "code",
   "execution_count": 1,
   "metadata": {},
   "outputs": [
    {
     "name": "stdout",
     "output_type": "stream",
     "text": [
      "#Б#ЖУР, #Б#ЗИНСКИЙ, #Б#ЗИНЫ, #ББ#Т, #ББ#ТИС#, #ББ#ТСТВО\n"
     ]
    }
   ],
   "source": [
    "# Решение\n",
    "\n",
    "one = 'AБAЖУР, AБAЗИНСКИЙ, AБAЗИНЫ, AББAТ, AББAТИСA, AББAТСТВО'\n",
    "two = \"\"\n",
    "for j in one:\n",
    "    if j == \"A\":\n",
    "        k = '#'\n",
    "    else:\n",
    "        k = j\n",
    "    two += two.join(k)\n",
    "print(two)"
   ]
  },
  {
   "cell_type": "markdown",
   "metadata": {},
   "source": [
    "### Задача 4\n",
    "\n",
    "В математике существует так называемая последовательность чисел Фибоначчи. Выглядит она так: 1, 1, 2, 3, 5, 8, 13, ...\n",
    "\n",
    "Каждое последующее число равно сумме двух предыдущих, а первые два числа Фибоначчи - две единицы.\n",
    "Запросите с клавиатуры число N и запишите в список первые N чисел Фибоначчи."
   ]
  },
  {
   "cell_type": "code",
   "execution_count": 23,
   "metadata": {},
   "outputs": [
    {
     "name": "stdout",
     "output_type": "stream",
     "text": [
      "Сколько чисел Фибоначчи нужно сгенерировать? 15\n",
      "[1, 1, 2, 3, 5, 8, 13, 21, 34, 55, 89, 144, 233, 377, 610]\n"
     ]
    }
   ],
   "source": []
  },
  {
   "cell_type": "code",
   "execution_count": 5,
   "metadata": {},
   "outputs": [],
   "source": [
    "# Решение\n",
    "\n",
    "figure = int(input())\n",
    "fib = [1,1]\n",
    "for i in range(2,figure,1):\n",
    "    a = fib[i-2] + fib[i-1]\n",
    "    fib.append(a)"
   ]
  },
  {
   "cell_type": "code",
   "execution_count": 6,
   "metadata": {},
   "outputs": [
    {
     "data": {
      "text/plain": [
       "[1, 1, 2, 3, 5, 8, 13, 21, 34, 55, 89, 144, 233, 377, 610]"
      ]
     },
     "execution_count": 6,
     "metadata": {},
     "output_type": "execute_result"
    }
   ],
   "source": [
    "fib"
   ]
  },
  {
   "cell_type": "markdown",
   "metadata": {},
   "source": [
    "### Задача 5 Подсчет слов\n",
    "Давайте теперь поработаем с настоящим файлом и действительно посчитаем в нем слова. Мы загрузим метаданные почтового сервера университета Мичигана. И попробуем найти, с какого адреса ушло больше всего писем."
   ]
  },
  {
   "cell_type": "code",
   "execution_count": 2,
   "metadata": {},
   "outputs": [],
   "source": [
    "# импортируем библиотеку для доступа к файлам в интернете\n",
    "import requests\n",
    "# в переменной mbox хранится текст для работы\n",
    "mbox = requests.get('http://www.py4inf.com/code/mbox.txt').text\n"
   ]
  },
  {
   "cell_type": "markdown",
   "metadata": {},
   "source": [
    "### Задача 6 Посчитать среднюю метрику X-DSPAM-Confidence для письма. \n",
    "### (Кажется, это что-то похожее на вероятность того, что письмо - не спам)\n",
    "\n",
    "Давайте воспользуемся предыдущим кодом и достанем те строчки, где эта метрика записана:"
   ]
  },
  {
   "cell_type": "code",
   "execution_count": 8,
   "metadata": {},
   "outputs": [],
   "source": [
    "# импортируем библиотеку для доступа к файлам в интернете\n",
    "import requests\n",
    "# в переменной mbox хранится текст для работы\n",
    "mbox = requests.get('http://www.py4inf.com/code/mbox.txt').text"
   ]
  },
  {
   "cell_type": "code",
   "execution_count": 14,
   "metadata": {},
   "outputs": [
    {
     "name": "stdout",
     "output_type": "stream",
     "text": [
      "['0.8475', '0.6178', '0.6961', '0.7565', '0.7626', '0.7556', '0.7002', '0.7615', '0.7601', '0.7605']\n"
     ]
    }
   ],
   "source": [
    "# Решение\n",
    "\n",
    "mbox_list = mbox.split()\n",
    "dspam = []\n",
    "for i,j in enumerate(mbox_list):\n",
    "    if j == 'X-DSPAM-Confidence:':\n",
    "        k = mbox_list[i+1]\n",
    "        dspam.append(k)\n",
    "    else:\n",
    "        continue\n",
    " # показываю первые 10 строк       \n",
    "print(dspam[:10])\n",
    "\n",
    "# но смысл хранить значение только значение коэффициента\n",
    "# информативно будет добавить электронную почту, для которой посчитана метрика\n",
    "# длина у полученных списков одинаковая и равна 1797\n",
    "# на основании этого можно предположить, что для каждого пользователя считается эта метрика (хотя может быть просто совпадение...)\n",
    "# ниже код для вытягивания электронной почты пользователей"
   ]
  },
  {
   "cell_type": "code",
   "execution_count": 16,
   "metadata": {},
   "outputs": [
    {
     "data": {
      "text/html": [
       "<div>\n",
       "<style scoped>\n",
       "    .dataframe tbody tr th:only-of-type {\n",
       "        vertical-align: middle;\n",
       "    }\n",
       "\n",
       "    .dataframe tbody tr th {\n",
       "        vertical-align: top;\n",
       "    }\n",
       "\n",
       "    .dataframe thead th {\n",
       "        text-align: right;\n",
       "    }\n",
       "</style>\n",
       "<table border=\"1\" class=\"dataframe\">\n",
       "  <thead>\n",
       "    <tr style=\"text-align: right;\">\n",
       "      <th></th>\n",
       "      <th>USER</th>\n",
       "      <th>X-DSPAM-Confidence</th>\n",
       "    </tr>\n",
       "  </thead>\n",
       "  <tbody>\n",
       "    <tr>\n",
       "      <th>0</th>\n",
       "      <td>stephen.marquard@uct.ac.za</td>\n",
       "      <td>0.8475</td>\n",
       "    </tr>\n",
       "    <tr>\n",
       "      <th>1</th>\n",
       "      <td>louis@media.berkeley.edu</td>\n",
       "      <td>0.6178</td>\n",
       "    </tr>\n",
       "    <tr>\n",
       "      <th>2</th>\n",
       "      <td>zqian@umich.edu</td>\n",
       "      <td>0.6961</td>\n",
       "    </tr>\n",
       "    <tr>\n",
       "      <th>3</th>\n",
       "      <td>rjlowe@iupui.edu</td>\n",
       "      <td>0.7565</td>\n",
       "    </tr>\n",
       "    <tr>\n",
       "      <th>4</th>\n",
       "      <td>zqian@umich.edu</td>\n",
       "      <td>0.7626</td>\n",
       "    </tr>\n",
       "  </tbody>\n",
       "</table>\n",
       "</div>"
      ],
      "text/plain": [
       "                         USER X-DSPAM-Confidence\n",
       "0  stephen.marquard@uct.ac.za             0.8475\n",
       "1    louis@media.berkeley.edu             0.6178\n",
       "2             zqian@umich.edu             0.6961\n",
       "3            rjlowe@iupui.edu             0.7565\n",
       "4             zqian@umich.edu             0.7626"
      ]
     },
     "execution_count": 16,
     "metadata": {},
     "output_type": "execute_result"
    }
   ],
   "source": [
    "# Решение (дополнительно)\n",
    "\n",
    "from_re = []\n",
    "for i,j in enumerate(mbox_list):\n",
    "    if j == 'From:':\n",
    "        k = mbox_list[i+1]\n",
    "        from_re.append(k)\n",
    "    else:\n",
    "        continue\n",
    "\n",
    "# можно создать такой вот датафрейм\n",
    "\n",
    "import pandas as pd\n",
    "data = [from_re, dspam]\n",
    "col = ['USER', 'X-DSPAM-Confidence']\n",
    "df = pd.DataFrame(data, col).transpose()\n",
    "df.head(5)"
   ]
  },
  {
   "cell_type": "code",
   "execution_count": 17,
   "metadata": {},
   "outputs": [
    {
     "name": "stdout",
     "output_type": "stream",
     "text": [
      "len of dspam: 1797\n",
      "len of from_re: 1797\n"
     ]
    }
   ],
   "source": [
    "print('len of dspam:', len(dspam))\n",
    "print('len of from_re:', len(from_re))"
   ]
  },
  {
   "cell_type": "markdown",
   "metadata": {},
   "source": [
    "### Задача 7 Объединение словарей\n",
    "\n",
    "Напишите программу, которая объединяет значения из двух списков.\n",
    "\n",
    "Ввод:\n",
    "\n",
    "    shops = [{'товар': 'яблоки', 'количество': 400}, {'товар': 'конфеты', 'количество': 300}, {'товар': 'яблоки', 'количество': 750}]\n",
    "\n",
    "\n",
    "Вывод:\n",
    "\n",
    "    {'яблоки': 1150, 'конфеты': 300}"
   ]
  },
  {
   "cell_type": "code",
   "execution_count": 17,
   "metadata": {},
   "outputs": [
    {
     "name": "stdout",
     "output_type": "stream",
     "text": [
      "{'яблоки': 1150, 'конфеты': 300}\n"
     ]
    }
   ],
   "source": [
    "# Решение\n",
    "\n",
    "import pandas as pd\n",
    "shops = [{'товар': str(input('Укажите наименование товара')),'количество': int(input('Укажите количество товара'))}, {'товар': str(input('Укажите наименование товара')),'количество': int(input('Укажите количество товара'))}, {'товар': str(input('Укажите наименование товара')),'количество': int(input('Укажите количество товара'))}]\n",
    "df = pd.DataFrame(shops)\n",
    "list_goods = df['товар'].unique()\n",
    "data = {}\n",
    "for i in list_goods:\n",
    "    sum_quant = sum(df['количество'][df['товар'] == i])\n",
    "    d = {i:sum_quant}\n",
    "    data.update(d)\n",
    "print(data)"
   ]
  },
  {
   "cell_type": "markdown",
   "metadata": {},
   "source": [
    "### Задача 8 Найти все числа от 1000 до 3000 включительно, все цифры которых четные.\n",
    "\n",
    "Программа должна выдавать результат в виде разделенной запятыми строки"
   ]
  },
  {
   "cell_type": "code",
   "execution_count": 4,
   "metadata": {
    "tags": [
     "outputPrepend"
    ]
   },
   "outputs": [
    {
     "name": "stdout",
     "output_type": "stream",
     "text": [
      "[2000, 2002, 2004, 2006, 2008, 2020, 2022, 2024, 2026, 2028, 2040, 2042, 2044, 2046, 2048, 2060, 2062, 2064, 2066, 2068, 2080, 2082, 2084, 2086, 2088, 2200, 2202, 2204, 2206, 2208, 2220, 2222, 2224, 2226, 2228, 2240, 2242, 2244, 2246, 2248, 2260, 2262, 2264, 2266, 2268, 2280, 2282, 2284, 2286, 2288, 2400, 2402, 2404, 2406, 2408, 2420, 2422, 2424, 2426, 2428, 2440, 2442, 2444, 2446, 2448, 2460, 2462, 2464, 2466, 2468, 2480, 2482, 2484, 2486, 2488, 2600, 2602, 2604, 2606, 2608, 2620, 2622, 2624, 2626, 2628, 2640, 2642, 2644, 2646, 2648, 2660, 2662, 2664, 2666, 2668, 2680, 2682, 2684, 2686, 2688, 2800, 2802, 2804, 2806, 2808, 2820, 2822, 2824, 2826, 2828, 2840, 2842, 2844, 2846, 2848, 2860, 2862, 2864, 2866, 2868, 2880, 2882, 2884, 2886, 2888]\n"
     ]
    }
   ],
   "source": [
    "# Решение\n",
    "\n",
    "need_list = []\n",
    "\n",
    "for i in range(1000,3001):\n",
    "    if int(list(str(i))[0]) % 2 == 0:\n",
    "        if int(list(str(i))[1]) % 2 == 0:\n",
    "            if int(list(str(i))[2]) % 2 == 0:\n",
    "                if int(list(str(i))[3]) % 2 == 0:\n",
    "                    need_list.append(i)\n",
    "                else:\n",
    "                    continue\n",
    "            else:\n",
    "                    continue\n",
    "        else:\n",
    "            continue\n",
    "    else:\n",
    "        continue\n",
    "print(need_list)"
   ]
  },
  {
   "cell_type": "markdown",
   "metadata": {},
   "source": [
    "### Задача 9 Найти количество цифр и количество букв в строке\n",
    "\n",
    "Вход: \"абвгд 234\"\n",
    "\n",
    "\n",
    "Выход:\n",
    "\n",
    "    Цифры: 3\n",
    "    Буквы: 5"
   ]
  },
  {
   "cell_type": "code",
   "execution_count": 21,
   "metadata": {},
   "outputs": [
    {
     "name": "stdout",
     "output_type": "stream",
     "text": [
      "Цифры: 3\n",
      "Буквы: 5\n"
     ]
    }
   ],
   "source": [
    "# Решение\n",
    "\n",
    "import re\n",
    "input_str = str(input().lower())\n",
    "numbers = re.findall('\\d',input_str)\n",
    "letter = re.findall('[а-я]', input_str)\n",
    "print('Цифры:', len(numbers))\n",
    "print('Буквы:', len(letter))"
   ]
  },
  {
   "cell_type": "markdown",
   "metadata": {},
   "source": [
    "### Задача 10 Найти частоту слов в строке. Строка вводится с клавиатуры, допустим, она разделена пробелами\n",
    "\n",
    "Вход: \"Я не кидал никого никогда\"\n",
    "\n",
    "\n",
    "Выход:\n",
    "\n",
    "    Я:1\n",
    "    не:1\n",
    "    кидал:1\n",
    "    никого:1\n",
    "    никогда:1"
   ]
  },
  {
   "cell_type": "code",
   "execution_count": 41,
   "metadata": {},
   "outputs": [
    {
     "name": "stdout",
     "output_type": "stream",
     "text": [
      "я: 1\n",
      "никогда: 1\n",
      "не: 1\n",
      "кидал: 1\n",
      "никого: 1\n"
     ]
    }
   ],
   "source": [
    "# Решение\n",
    "\n",
    "input_str = str(input().lower())\n",
    "\n",
    "for i in set(input_str.split()):\n",
    "    for_count = re.findall(i,input_str)\n",
    "    count_word = len(for_count)\n",
    "    print(i+':', count_word)\n",
    "\n",
    "# немного не в том порядке, по сравнение с вашим примером\n",
    "# это из-за применения set (как я поняла по дефолту сортирует в алфавитном порядке)\n",
    "# если его убрать, будет также, но возникает вопрос с дубликатами слов\n",
    "# поэтому оставлю set, надеюсь это не критично будет :)"
   ]
  },
  {
   "cell_type": "markdown",
   "metadata": {},
   "source": [
    "### Задача 11 Дан массив из чисел. Отсортируйте его, не используя встроенных функций. (циклами for, например). Ожидаю получить сортировку пузырьком)\n",
    "\n",
    "Вход: На вход дана последовательность из N случайных чисел. Например [48, 59, 9, 90, 15, 58, 19, 49, 13, 7]\n",
    "\n",
    "\n",
    "Выход:\n",
    "\n",
    "    Отсортированная последовательность [7, 9, 13, 15, 19, 48, 49, 58, 59, 90]"
   ]
  },
  {
   "cell_type": "code",
   "execution_count": 72,
   "metadata": {},
   "outputs": [
    {
     "name": "stdout",
     "output_type": "stream",
     "text": [
      "[83, 20, 55, 82, 63, 37, 31, 63, 93, 88]\n"
     ]
    }
   ],
   "source": [
    "from random import randint\n",
    " \n",
    "N = 10\n",
    "a = []\n",
    "for i in range(N):\n",
    "    a.append(randint(1, 99))\n",
    "print(a)"
   ]
  },
  {
   "cell_type": "code",
   "execution_count": 73,
   "metadata": {},
   "outputs": [
    {
     "name": "stdout",
     "output_type": "stream",
     "text": [
      "[20, 31, 37, 55, 63, 63, 82, 83, 88, 93]\n"
     ]
    }
   ],
   "source": [
    "# Решение\n",
    "\n",
    "new_list_1 = []\n",
    "for i in range(len(a)):\n",
    "    for i,j in enumerate(a):\n",
    "        try:\n",
    "            if a[i] > a[i+1]:\n",
    "                a[i], a[i+1] = a[i+1], a[i]\n",
    "            else:\n",
    "                continue\n",
    "        except:\n",
    "            continue\n",
    "print(a)"
   ]
  },
  {
   "cell_type": "markdown",
   "metadata": {},
   "source": [
    "### Задача 12 Про Поросёнка Петра\n",
    "\n",
    "На плоскости в точке (0,0) стоит Поросёнок Пётр. Он умеет ходить налево, направо, вверх и вниз. Расстояние его прохода в какую-либо сторону измеряется в шагах. Когда он идет вправо, его первая координата увеличивается, когда влево - уменьшается. Когда он идет вверх, его вторая координата увеличивается, а когда вниз - уменьшается. \n",
    "\n",
    "С клавиатуры считывается число N - число ходов, которые сделает Пётр. После чего на каждом шаге спрашивается, сколько шагов и в какую сторону за этот ход Пётр сделает. Так происходит, пока Пётр не осуществит все N ходов.\n",
    "\n",
    "Программа должна вывести, сколько шагов Пётр должен был бы сделать, чтобы кратчайшим путем прибыть из свое начальной точки (0,0) в свою конечную точку. Напоминание: Пётр умеет ходить только вверх-вниз, и влево-вправо, но не по диагонали.\n",
    "\n",
    "Пример ввода: \n",
    "\n",
    "    Введите N: 3\n",
    "    Ход 1: Вверх 1\n",
    "    Ход 2: Вниз 1\n",
    "    Ход 3: Вверх 1\n",
    "    \n",
    "Пример вывода:\n",
    "\n",
    "    Пётр находится на расстоянии 1 от (0,0)"
   ]
  },
  {
   "cell_type": "code",
   "execution_count": 34,
   "metadata": {},
   "outputs": [
    {
     "name": "stdout",
     "output_type": "stream",
     "text": [
      "1\n",
      "вверх 1\n",
      "2\n",
      "вниз 1\n",
      "3\n",
      "вверх 1\n",
      "Петр находится на расстоянии 1 от (0,0)\n"
     ]
    }
   ],
   "source": [
    "# Решение\n",
    "\n",
    "import sys\n",
    "import re\n",
    "try:\n",
    "    quant_move = int(input('Введите общее число ходов'))\n",
    "except ValueError: \n",
    "    sys.exit(\"Неправильный ввод. Перезапустите цикл и введите заново.\")\n",
    "list_of_move = []\n",
    "list_of_steps = []\n",
    "for i in range(1,quant_move+1,1):\n",
    "    print(i)\n",
    "    try:\n",
    "        one_move = str(input('Ход' + ' ' + str(i))).lower()\n",
    "        print(one_move)\n",
    "        list_of_move.append(one_move)\n",
    "        new_str = re.sub('вверх ', '', list_of_move[i-1])\n",
    "        new_str = re.sub('вниз ', '-', new_str)\n",
    "        new_str = re.sub('вправо ', '', new_str)\n",
    "        new_str = re.sub('влево ', '-', new_str)\n",
    "        q_steps = int(new_str)\n",
    "        list_of_steps.append(q_steps)\n",
    "        steps = abs(sum(list_of_steps)) # модуль числа, потому что кол-во шагов - положит. величина\n",
    "    except ValueError:\n",
    "        print('Неправильный ввод. Перезапустите цикл.')\n",
    "        break\n",
    "print('Петр находится на расстоянии {0} от (0,0)'.format(steps))"
   ]
  },
  {
   "cell_type": "code",
   "execution_count": null,
   "metadata": {},
   "outputs": [],
   "source": []
  }
 ],
 "metadata": {
  "kernelspec": {
   "display_name": "Python 3.8.2 32-bit",
   "language": "python",
   "name": "python38232bit3d0a372392db4042a2c827a14929d5f9"
  },
  "language_info": {
   "codemirror_mode": {
    "name": "ipython",
    "version": 3
   },
   "file_extension": ".py",
   "mimetype": "text/x-python",
   "name": "python",
   "nbconvert_exporter": "python",
   "pygments_lexer": "ipython3",
   "version": "3.8.2"
  }
 },
 "nbformat": 4,
 "nbformat_minor": 2
}
